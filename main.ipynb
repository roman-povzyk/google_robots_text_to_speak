{
 "cells": [
  {
   "cell_type": "markdown",
   "metadata": {},
   "source": [
    "# Роботизований начитчик тексту сімома мовами"
   ]
  },
  {
   "cell_type": "markdown",
   "metadata": {},
   "source": [
    "## 1. Інсталяція необхідних пакетів та модулів"
   ]
  },
  {
   "cell_type": "markdown",
   "metadata": {},
   "source": [
    "### 1.1. Встановлення пакету Google Text-to-Speech.\n",
    "\n",
    "Інформацію про цей пакет можна знайти тут: https://pypi.org/project/gTTS/. \n",
    "\n",
    "Документація тут: https://gtts.readthedocs.io/en/latest/."
   ]
  },
  {
   "cell_type": "code",
   "execution_count": 1,
   "metadata": {},
   "outputs": [
    {
     "name": "stdout",
     "output_type": "stream",
     "text": [
      "Requirement already satisfied: gTTS in c:\\users\\user\\anaconda4\\lib\\site-packages (2.2.3)\n",
      "Requirement already satisfied: requests in c:\\users\\user\\anaconda4\\lib\\site-packages (from gTTS) (2.22.0)\n",
      "Requirement already satisfied: six in c:\\users\\user\\anaconda4\\lib\\site-packages (from gTTS) (1.15.0)\n",
      "Requirement already satisfied: click in c:\\users\\user\\anaconda4\\lib\\site-packages (from gTTS) (7.0)\n",
      "Requirement already satisfied: urllib3!=1.25.0,!=1.25.1,<1.26,>=1.21.1 in c:\\users\\user\\anaconda4\\lib\\site-packages (from requests->gTTS) (1.25.8)\n",
      "Requirement already satisfied: chardet<3.1.0,>=3.0.2 in c:\\users\\user\\anaconda4\\lib\\site-packages (from requests->gTTS) (3.0.4)\n",
      "Requirement already satisfied: certifi>=2017.4.17 in c:\\users\\user\\anaconda4\\lib\\site-packages (from requests->gTTS) (2019.11.28)\n",
      "Requirement already satisfied: idna<2.9,>=2.5 in c:\\users\\user\\anaconda4\\lib\\site-packages (from requests->gTTS) (2.8)\n",
      "Note: you may need to restart the kernel to use updated packages.\n"
     ]
    },
    {
     "name": "stderr",
     "output_type": "stream",
     "text": [
      "WARNING: Ignoring invalid distribution -umpy (c:\\users\\user\\anaconda4\\lib\\site-packages)\n",
      "WARNING: Ignoring invalid distribution -umpy (c:\\users\\user\\anaconda4\\lib\\site-packages)\n",
      "WARNING: Ignoring invalid distribution -umpy (c:\\users\\user\\anaconda4\\lib\\site-packages)\n",
      "WARNING: Ignoring invalid distribution -umpy (c:\\users\\user\\anaconda4\\lib\\site-packages)\n",
      "WARNING: Ignoring invalid distribution -umpy (c:\\users\\user\\anaconda4\\lib\\site-packages)\n"
     ]
    }
   ],
   "source": [
    "pip install gTTS"
   ]
  },
  {
   "cell_type": "markdown",
   "metadata": {},
   "source": [
    "### 1.2. Імпорт модулів Google Text-to-Speech та часу."
   ]
  },
  {
   "cell_type": "code",
   "execution_count": 2,
   "metadata": {},
   "outputs": [],
   "source": [
    "from gtts import gTTS\n",
    "import datetime"
   ]
  },
  {
   "cell_type": "markdown",
   "metadata": {},
   "source": [
    "## 2. Отримання від користувача тексту для начитки та мови, на якій потрібно буде начитати."
   ]
  },
  {
   "cell_type": "markdown",
   "metadata": {},
   "source": [
    "### 2.1. Введення тексту, на основі якого буде створене аудіо."
   ]
  },
  {
   "cell_type": "code",
   "execution_count": 3,
   "metadata": {},
   "outputs": [
    {
     "name": "stdout",
     "output_type": "stream",
     "text": [
      "Введіть сюди ваш текст: \n",
      "Темою восьмого DOU Live стала позиція CTO — Chief Technology Officer — роль, що поєднує менеджерські функції та технічні аспекти продукту, шукає та утримує баланс між технічною та бізнес-стратегіями компанії. Про те, хто такий СТО, чим займається і як ним стати говорили з представниками посади — Дмитром Меньшиковим, консультантом, Вірою Ткаченко, СТО в MacPaw, і Дмитром Москаленком, СТО в Rocket Delivery.\n"
     ]
    }
   ],
   "source": [
    "text = input('Введіть сюди ваш текст: \\n')"
   ]
  },
  {
   "cell_type": "markdown",
   "metadata": {},
   "source": [
    "### 2.2. Вибір мови, якою начитуватиме робот."
   ]
  },
  {
   "cell_type": "code",
   "execution_count": 5,
   "metadata": {},
   "outputs": [
    {
     "name": "stdout",
     "output_type": "stream",
     "text": [
      "Оберіть одну із семи мов uk/eng/ru/de/fr/es/pt: uk\n"
     ]
    }
   ],
   "source": [
    "lang_input = input(\"Оберіть одну із семи мов uk/eng/ru/de/fr/es/pt: \")\n",
    "\n",
    "# Безпека на випадок неправильного введення\n",
    "while lang_input != 'uk' and lang_input != 'eng' and lang_input != 'ru' and lang_input != 'de' \\\n",
    "    and lang_input != 'fr' and lang_input != 'es' and lang_input != 'pt':\n",
    "    print('Ми не можемо визначити вашу мову.')\n",
    "    \n",
    "    lang_input = input(\"Оберіть одну із семи мов uk/eng/ru/de/fr/es/pt: \")\n",
    "    \n",
    "    #  Пропуск на випадок правильного введення   \n",
    "    if lang_input == 'uk' or lang_input == 'eng' or lang_input == 'ru' or lang_input == 'de' \\\n",
    "    or lang_input == 'fr' or lang_input == 'es' or lang_input == 'pt':\n",
    "        print('Дякуємо за ваш вибір!')"
   ]
  },
  {
   "cell_type": "markdown",
   "metadata": {},
   "source": [
    "## 3. Увімкнення фунцій, які відповідають за конвертацію тексту в аудіо."
   ]
  },
  {
   "cell_type": "markdown",
   "metadata": {},
   "source": [
    "### 3.1. Конвертатор для української мови.\n",
    "Для випадку, якщо користувач увів `uk`.\n",
    "\n",
    "Якщо не використовуватимете, то можете і не вмикати."
   ]
  },
  {
   "cell_type": "code",
   "execution_count": 6,
   "metadata": {},
   "outputs": [],
   "source": [
    "def convert_uk(text):\n",
    "    print(\"Добре. Конвертую для тебе книгу українською. Це займе трошки часу.\")\n",
    "    obj = gTTS(text, lang=\"uk\")\n",
    "    obj.save('audiobook.mp3')"
   ]
  },
  {
   "cell_type": "markdown",
   "metadata": {},
   "source": [
    "### 3.2. Конвертатор для англійської мови.\n",
    "Для випадку, якщо користувач увів `eng`.\n",
    "\n",
    "Якщо не використовуватимете, то можете і не вмикати."
   ]
  },
  {
   "cell_type": "code",
   "execution_count": null,
   "metadata": {},
   "outputs": [],
   "source": [
    "def convert_eng(text):\n",
    "    print(\"Okay. I am converting a book for you in English. It will take some time.\")\n",
    "    obj = gTTS(text)\n",
    "    obj.save(\"audiobook.mp3\")"
   ]
  },
  {
   "cell_type": "markdown",
   "metadata": {},
   "source": [
    "### 3.3. Конвертатор для російської мови.\n",
    "Для випадку, якщо користувач увів `ru`.\n",
    "\n",
    "Якщо не використовуватимете, то можете і не вмикати."
   ]
  },
  {
   "cell_type": "code",
   "execution_count": null,
   "metadata": {},
   "outputs": [],
   "source": [
    "def convert_ru(text):\n",
    "    print(\"Хорошо. Конвертирую для тебя книгу на русском. Это займет немного времени.\")\n",
    "    obj = gTTS(text, lang=\"ru\")\n",
    "    obj.save(\"audiobook.mp3\")"
   ]
  },
  {
   "cell_type": "markdown",
   "metadata": {},
   "source": [
    "### 3.4. Конвертатор для німецької мови.\n",
    "Для випадку, якщо користувач увів `de`.\n",
    "\n",
    "Якщо не використовуватимете, то можете і не вмикати."
   ]
  },
  {
   "cell_type": "code",
   "execution_count": 56,
   "metadata": {},
   "outputs": [],
   "source": [
    "def convert_de(text):\n",
    "    print(\"Okay. Ich wandele gerade ein Buch für Sie in Englisch um. Es wird einige Zeit in Anspruch nehmen.\")\n",
    "    obj = gTTS(text, lang=\"de\")\n",
    "    obj.save(\"audiobook.mp3\")"
   ]
  },
  {
   "cell_type": "markdown",
   "metadata": {},
   "source": [
    "### 3.5. Конвертатор для французької мови.\n",
    "Для випадку, якщо користувач увів `fr`.\n",
    "\n",
    "Якщо не використовуватимете, то можете і не вмикати."
   ]
  },
  {
   "cell_type": "code",
   "execution_count": 20,
   "metadata": {},
   "outputs": [],
   "source": [
    "def convert_fr(text):\n",
    "    print(\"D'accord. Je suis en train de convertir un livre pour vous en anglais. Cela prendra du temps.\")\n",
    "    obj = gTTS(text, lang=\"fr\")\n",
    "    obj.save(\"audiobook.mp3\")"
   ]
  },
  {
   "cell_type": "markdown",
   "metadata": {},
   "source": [
    "### 3.6. Конвертатор для іспанської мови.\n",
    "Для випадку, якщо користувач увів `es`.\n",
    "\n",
    "Якщо не використовуватимете, то можете і не вмикати."
   ]
  },
  {
   "cell_type": "code",
   "execution_count": 12,
   "metadata": {},
   "outputs": [],
   "source": [
    "def convert_es(text):\n",
    "    print(\"Bueno. Te estoy convirtiendo un libro en inglés. Tomará un poco de tiempo.\")\n",
    "    obj = gTTS(text, lang=\"es\")\n",
    "    obj.save(\"audiobook.mp3\")"
   ]
  },
  {
   "cell_type": "markdown",
   "metadata": {},
   "source": [
    "### 3.7. Конвертатор для португальскої мови.\n",
    "Для випадку, якщо користувач увів `pt`.\n",
    "\n",
    "Якщо не використовуватимете, то можете і не вмикати."
   ]
  },
  {
   "cell_type": "code",
   "execution_count": 25,
   "metadata": {},
   "outputs": [],
   "source": [
    "def convert_pt(text):\n",
    "    print(\"OK. Estou convertendo um livro para você em inglês. Vai levar algum tempo.\")\n",
    "    obj = gTTS(text, lang=\"pt\")\n",
    "    obj.save(\"audiobook.mp3\")"
   ]
  },
  {
   "cell_type": "markdown",
   "metadata": {},
   "source": [
    "### 3.8. Головна функція, яка поєднує у собі всі попередні мови."
   ]
  },
  {
   "cell_type": "code",
   "execution_count": 7,
   "metadata": {},
   "outputs": [],
   "source": [
    "def select_lang(lang_number):\n",
    "    if lang_number == 'uk':\n",
    "        convert_uk(text)\n",
    "    elif lang_number == 'eng':\n",
    "        convert_eng(text)\n",
    "    elif lang_number == 'ru':\n",
    "        convert_ru(text)\n",
    "    elif lang_number == 'de':\n",
    "        convert_de(text)\n",
    "    elif lang_number == 'fr':\n",
    "        convert_fr(text)\n",
    "    elif lang_number == 'es':\n",
    "        convert_es(text)\n",
    "    elif lang_number == 'pt':\n",
    "        convert_pt(text)"
   ]
  },
  {
   "cell_type": "markdown",
   "metadata": {},
   "source": [
    "## 4. Конвертування тексту в аудіо і отримання файлу.\n",
    "\n",
    "Перевірте, щоб у папці не лишилося аудіо з попереднього конвертування."
   ]
  },
  {
   "cell_type": "code",
   "execution_count": 9,
   "metadata": {},
   "outputs": [
    {
     "name": "stdout",
     "output_type": "stream",
     "text": [
      "Добре. Конвертую для тебе книгу українською. Це займе трошки часу.\n",
      "None\n",
      "Готово. Насолоджуйся читанням. \n",
      "0:00:05.493750\n"
     ]
    }
   ],
   "source": [
    "# Визначаємо час, витрачений на конвертування.\n",
    "date_start = datetime.datetime.now()\n",
    "print(select_lang(lang_input))\n",
    "date_end = datetime.datetime.now()\n",
    "convert_time = date_end - date_start\n",
    "\n",
    "# Повідомлення про готовність\n",
    "if lang_input == \"uk\":\n",
    "    print(f\"Готово. Насолоджуйся читанням. \\n{convert_time}\")\n",
    "elif lang_input == \"eng\":\n",
    "    print(f\"Done. Enjoy your reading. \\n{convert_time}\")\n",
    "elif lang_input == \"ru\":\n",
    "    print(f\"Есть. Наслаждайся чтением. \\n{convert_time}\")\n",
    "elif lang_input == \"de\":\n",
    "    print(f\"Getan. Viel Spaß beim Lesen. \\n{convert_time}\")\n",
    "elif lang_input == \"fr\":\n",
    "    print(f\"Fait. Bonne lecture. \\n{convert_time}\")\n",
    "elif lang_input == \"es\":\n",
    "    print(f\"Hecho. Disfruta tu lectura. \\n{convert_time}\")\n",
    "elif lang_input == \"pt\":\n",
    "    print(f\"Feito. Boa leitura. \\n{convert_time}\")"
   ]
  },
  {
   "cell_type": "markdown",
   "metadata": {},
   "source": [
    "## 5. Озвучування тексту відразу у браузері."
   ]
  },
  {
   "cell_type": "markdown",
   "metadata": {},
   "source": [
    "У випадку, якщо ви хочете відразу прослухати аудіо, його можна запустити відразу з цього ноутбуку. Але поки що відсутня можливість роботи з файлом (зупинка, продовження тощо)."
   ]
  },
  {
   "cell_type": "markdown",
   "metadata": {},
   "source": [
    "### 5.1. Інсталяція та підключення модулю Playsound\n",
    "Документація тут: https://pypi.org/project/playsound/."
   ]
  },
  {
   "cell_type": "code",
   "execution_count": 28,
   "metadata": {},
   "outputs": [
    {
     "name": "stdout",
     "output_type": "stream",
     "text": [
      "Requirement already satisfied: playsound in c:\\users\\user\\anaconda4\\lib\\site-packages (1.2.2)\n",
      "Note: you may need to restart the kernel to use updated packages.\n"
     ]
    },
    {
     "name": "stderr",
     "output_type": "stream",
     "text": [
      "WARNING: Ignoring invalid distribution -umpy (c:\\users\\user\\anaconda4\\lib\\site-packages)\n",
      "WARNING: Ignoring invalid distribution -umpy (c:\\users\\user\\anaconda4\\lib\\site-packages)\n",
      "WARNING: Ignoring invalid distribution -umpy (c:\\users\\user\\anaconda4\\lib\\site-packages)\n",
      "WARNING: Ignoring invalid distribution -umpy (c:\\users\\user\\anaconda4\\lib\\site-packages)\n",
      "WARNING: Ignoring invalid distribution -umpy (c:\\users\\user\\anaconda4\\lib\\site-packages)\n"
     ]
    }
   ],
   "source": [
    "pip install playsound"
   ]
  },
  {
   "cell_type": "code",
   "execution_count": 30,
   "metadata": {},
   "outputs": [],
   "source": [
    "from playsound import playsound"
   ]
  },
  {
   "cell_type": "markdown",
   "metadata": {},
   "source": [
    "### 5.2. Озвучування конвертованого в аудіо тексту у браузері."
   ]
  },
  {
   "cell_type": "code",
   "execution_count": 32,
   "metadata": {},
   "outputs": [],
   "source": [
    "playsound('audiobook.mp3')"
   ]
  },
  {
   "cell_type": "code",
   "execution_count": null,
   "metadata": {},
   "outputs": [],
   "source": []
  }
 ],
 "metadata": {
  "kernelspec": {
   "display_name": "Python 3",
   "language": "python",
   "name": "python3"
  },
  "language_info": {
   "codemirror_mode": {
    "name": "ipython",
    "version": 3
   },
   "file_extension": ".py",
   "mimetype": "text/x-python",
   "name": "python",
   "nbconvert_exporter": "python",
   "pygments_lexer": "ipython3",
   "version": "3.7.6"
  }
 },
 "nbformat": 4,
 "nbformat_minor": 4
}
