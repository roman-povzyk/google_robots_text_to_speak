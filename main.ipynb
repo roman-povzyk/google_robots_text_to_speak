{
 "cells": [
  {
   "cell_type": "markdown",
   "metadata": {},
   "source": [
    "# Роботизований начитчик тексту чотирма мовами"
   ]
  },
  {
   "cell_type": "markdown",
   "metadata": {},
   "source": [
    "## 1. Інсталяція необхідних пакетів та модулів"
   ]
  },
  {
   "cell_type": "markdown",
   "metadata": {},
   "source": [
    "### 1.1. Встановлення пакету Google Text-to-Speech.\n",
    "\n",
    "Інформацію про цей пакет можна знайти тут: https://pypi.org/project/gTTS/. \n",
    "\n",
    "Документація тут: https://gtts.readthedocs.io/en/latest/."
   ]
  },
  {
   "cell_type": "code",
   "execution_count": 2,
   "metadata": {},
   "outputs": [
    {
     "name": "stdout",
     "output_type": "stream",
     "text": [
      "Requirement already satisfied: gTTS in c:\\users\\user\\anaconda4\\lib\\site-packages (2.2.3)\n",
      "Requirement already satisfied: click in c:\\users\\user\\anaconda4\\lib\\site-packages (from gTTS) (7.0)\n",
      "Requirement already satisfied: requests in c:\\users\\user\\anaconda4\\lib\\site-packages (from gTTS) (2.22.0)\n",
      "Requirement already satisfied: six in c:\\users\\user\\anaconda4\\lib\\site-packages (from gTTS) (1.15.0)\n",
      "Requirement already satisfied: certifi>=2017.4.17 in c:\\users\\user\\anaconda4\\lib\\site-packages (from requests->gTTS) (2019.11.28)\n",
      "Requirement already satisfied: urllib3!=1.25.0,!=1.25.1,<1.26,>=1.21.1 in c:\\users\\user\\anaconda4\\lib\\site-packages (from requests->gTTS) (1.25.8)\n",
      "Requirement already satisfied: chardet<3.1.0,>=3.0.2 in c:\\users\\user\\anaconda4\\lib\\site-packages (from requests->gTTS) (3.0.4)\n",
      "Requirement already satisfied: idna<2.9,>=2.5 in c:\\users\\user\\anaconda4\\lib\\site-packages (from requests->gTTS) (2.8)\n",
      "Note: you may need to restart the kernel to use updated packages.\n"
     ]
    },
    {
     "name": "stderr",
     "output_type": "stream",
     "text": [
      "WARNING: You are using pip version 21.0; however, version 21.1.3 is available.\n",
      "You should consider upgrading via the 'C:\\Users\\User\\anaconda4\\python.exe -m pip install --upgrade pip' command.\n"
     ]
    }
   ],
   "source": [
    "pip install gTTS"
   ]
  },
  {
   "cell_type": "markdown",
   "metadata": {},
   "source": [
    "### 1.2. Імпорт модулів Google Text-to-Speech та часу."
   ]
  },
  {
   "cell_type": "code",
   "execution_count": 3,
   "metadata": {},
   "outputs": [],
   "source": [
    "from gtts import gTTS\n",
    "import datetime"
   ]
  },
  {
   "cell_type": "markdown",
   "metadata": {},
   "source": [
    "## 2. Отримання від користувача тексту для начитки та мови, на якій потрібно буде начитати."
   ]
  },
  {
   "cell_type": "markdown",
   "metadata": {},
   "source": [
    "### 2.1. Введення тексту, на основі якого буде створене аудіо."
   ]
  },
  {
   "cell_type": "code",
   "execution_count": 54,
   "metadata": {},
   "outputs": [
    {
     "name": "stdout",
     "output_type": "stream",
     "text": [
      "Введіть сюди ваш текст: \n",
      "Was ist passiert?  Dienstagabend gegen 19.30 Uhr wurde der niederländische Reporter Peter Rudolf de Vries in Amsterdam auf offener Straße niedergeschossen, nachdem er ein Fernsehstudio verlassen hatte. Eine Kugel traf ihn in den Kopf. Bei dem Anschlag wurde der 64-Jährige lebensgefährlich verletzt. Er wurde in ein Krankenhaus gebracht und kämpft dort um sein Leben.\n"
     ]
    }
   ],
   "source": [
    "text = input('Введіть сюди ваш текст: \\n')"
   ]
  },
  {
   "cell_type": "markdown",
   "metadata": {},
   "source": [
    "### 2.2. Вибір мови, якою начитуватиме робот."
   ]
  },
  {
   "cell_type": "code",
   "execution_count": 60,
   "metadata": {},
   "outputs": [
    {
     "name": "stdout",
     "output_type": "stream",
     "text": [
      "Оберіть одну з чотирьох мов — ua/eng/ru/de: de\n"
     ]
    }
   ],
   "source": [
    "lang_input = input(\"Оберіть одну з чотирьох мов — ua/eng/ru/de: \")\n",
    "\n",
    "# Безпека на випадок неправильного введення\n",
    "while lang_input != 'uk' and lang_input != 'eng' and lang_input != 'ru' and lang_input != 'de' :\n",
    "    print('Ми не можемо визначити вашу мову.')\n",
    "    \n",
    "    lang_input = input(\"Оберіть одну з трьох мов — ua/eng/ru: \")\n",
    "    \n",
    "    #  Пропуск на випадок правильного введення   \n",
    "    if lang_input == 'uk' or lang_input == 'eng' or lang_input == 'ru' or lang_input == 'de' :\n",
    "        print('Дякуємо за ваш вибір!')"
   ]
  },
  {
   "cell_type": "markdown",
   "metadata": {},
   "source": [
    "## 3. Увімкнення фунцій, які відповідають за конвертацію тексту в аудіо."
   ]
  },
  {
   "cell_type": "markdown",
   "metadata": {},
   "source": [
    "### 3.1. Конвертатор для української мови.\n",
    "Для випадку, якщо користувач увів `uk`.\n",
    "\n",
    "Якщо не використовуватимете, то можете і не вмикати."
   ]
  },
  {
   "cell_type": "code",
   "execution_count": 40,
   "metadata": {},
   "outputs": [],
   "source": [
    "def convert_uk(text):\n",
    "    print(\"Добре. Конвертую для тебе книгу українською. Це займе трошки часу.\")\n",
    "    obj = gTTS(text, lang=\"uk\")\n",
    "    obj.save('audiobook.mp3')"
   ]
  },
  {
   "cell_type": "markdown",
   "metadata": {},
   "source": [
    "### 3.2. Конвертатор для англійської мови.\n",
    "Для випадку, якщо користувач увів `eng`.\n",
    "\n",
    "Якщо не використовуватимете, то можете і не вмикати."
   ]
  },
  {
   "cell_type": "code",
   "execution_count": null,
   "metadata": {},
   "outputs": [],
   "source": [
    "def convert_eng(text):\n",
    "    print(\"Okay. I am converting a book for you in English. It will take some time.\")\n",
    "    obj = gTTS(text)\n",
    "    obj.save(\"audiobook.mp3\")"
   ]
  },
  {
   "cell_type": "markdown",
   "metadata": {},
   "source": [
    "### 3.3. Конвертатор для російської мови.\n",
    "Для випадку, якщо користувач увів `ru`.\n",
    "\n",
    "Якщо не використовуватимете, то можете і не вмикати."
   ]
  },
  {
   "cell_type": "code",
   "execution_count": null,
   "metadata": {},
   "outputs": [],
   "source": [
    "def convert_ru(text):\n",
    "    print(\"Хорошо. Конвертирую для тебя книгу на русском. Это займет немного времени.\")\n",
    "    obj = gTTS(text, lang=\"ru\")\n",
    "    obj.save(\"audiobook.mp3\")"
   ]
  },
  {
   "cell_type": "markdown",
   "metadata": {},
   "source": [
    "### 3.4. Конвертатор для німецької мови.\n",
    "Для випадку, якщо користувач увів `de`.\n",
    "\n",
    "Якщо не використовуватимете, то можете і не вмикати."
   ]
  },
  {
   "cell_type": "code",
   "execution_count": 56,
   "metadata": {},
   "outputs": [],
   "source": [
    "def convert_de(text):\n",
    "    print(\"Okay. Ich wandele gerade ein Buch für Sie in Englisch um. Es wird einige Zeit in Anspruch nehmen.\")\n",
    "    obj = gTTS(text, lang=\"de\")\n",
    "    obj.save(\"audiobook.mp3\")"
   ]
  },
  {
   "cell_type": "markdown",
   "metadata": {},
   "source": [
    "### 3.5. Головна функція, яка поєднує у собі всі попередні мови."
   ]
  },
  {
   "cell_type": "code",
   "execution_count": 57,
   "metadata": {},
   "outputs": [],
   "source": [
    "def select_lang(lang_number):\n",
    "    if lang_number == 'uk':\n",
    "        convert_uk(text)\n",
    "    elif lang_number == 'eng':\n",
    "        convert_eng(text)\n",
    "    elif lang_number == 'ru':\n",
    "        convert_ru(text)\n",
    "    elif lang_number == 'de':\n",
    "        convert_de(text)"
   ]
  },
  {
   "cell_type": "markdown",
   "metadata": {},
   "source": [
    "## 4. Конвертування тексту в аудіо і отримання файлу.\n",
    "\n",
    "Перевірте, щоб у папці не лишилося аудіо з попереднього конвертування."
   ]
  },
  {
   "cell_type": "code",
   "execution_count": 58,
   "metadata": {},
   "outputs": [
    {
     "name": "stdout",
     "output_type": "stream",
     "text": [
      "Okay. Ich wandele gerade ein Buch für Sie in Englisch um. Es wird einige Zeit in Anspruch nehmen.\n",
      "None\n",
      "Getan. Viel Spaß beim Lesen. \n",
      "0:00:03.800050\n"
     ]
    }
   ],
   "source": [
    "# Визначаємо час, витрачений на конвертування.\n",
    "date_start = datetime.datetime.now()\n",
    "print(select_lang(lang_input))\n",
    "date_end = datetime.datetime.now()\n",
    "convert_time = date_end - date_start\n",
    "\n",
    "# Повідомлення про готовність\n",
    "if lang_input == \"uk\":\n",
    "    print(f\"Готово. Насолоджуйся читанням. \\n{convert_time}\")\n",
    "elif lang_input == \"eng\":\n",
    "    print(f\"Done. Enjoy your reading. \\n{convert_time}\")\n",
    "elif lang_input == \"ru\":\n",
    "    print(f\"Есть. Наслаждайся чтением. \\n{convert_time}\")\n",
    "elif lang_input == \"de\":\n",
    "    print(f\"Getan. Viel Spaß beim Lesen. \\n{convert_time}\")"
   ]
  },
  {
   "cell_type": "markdown",
   "metadata": {},
   "source": [
    "# 5. Озвучування тексту відразу у браузері."
   ]
  },
  {
   "cell_type": "markdown",
   "metadata": {},
   "source": [
    "У випадку, якщо ви хочете відразу прослухати аудіо, його можна запустити відразу з цього ноутбуку. Але поки що відсутня можливість роботи з файлом (зупинка, продовження тощо)."
   ]
  },
  {
   "cell_type": "markdown",
   "metadata": {},
   "source": [
    "## 5.1. Інсталяція та підключення модулю Playsound\n",
    "Документація тут: https://pypi.org/project/playsound/."
   ]
  },
  {
   "cell_type": "code",
   "execution_count": 36,
   "metadata": {},
   "outputs": [
    {
     "name": "stdout",
     "output_type": "stream",
     "text": [
      "Requirement already satisfied: playsound in c:\\users\\user\\anaconda4\\lib\\site-packages (1.2.2)\n",
      "Note: you may need to restart the kernel to use updated packages.\n"
     ]
    },
    {
     "name": "stderr",
     "output_type": "stream",
     "text": [
      "WARNING: You are using pip version 21.0; however, version 21.1.3 is available.\n",
      "You should consider upgrading via the 'C:\\Users\\User\\anaconda4\\python.exe -m pip install --upgrade pip' command.\n"
     ]
    }
   ],
   "source": [
    "pip install playsound"
   ]
  },
  {
   "cell_type": "code",
   "execution_count": 38,
   "metadata": {},
   "outputs": [],
   "source": [
    "from playsound import playsound"
   ]
  },
  {
   "cell_type": "markdown",
   "metadata": {},
   "source": [
    "### 5.2. Озвучування конвертованого в аудіо тексту у браузері."
   ]
  },
  {
   "cell_type": "code",
   "execution_count": 59,
   "metadata": {},
   "outputs": [],
   "source": [
    "playsound('audiobook.mp3')"
   ]
  },
  {
   "cell_type": "code",
   "execution_count": null,
   "metadata": {},
   "outputs": [],
   "source": []
  }
 ],
 "metadata": {
  "kernelspec": {
   "display_name": "Python 3",
   "language": "python",
   "name": "python3"
  },
  "language_info": {
   "codemirror_mode": {
    "name": "ipython",
    "version": 3
   },
   "file_extension": ".py",
   "mimetype": "text/x-python",
   "name": "python",
   "nbconvert_exporter": "python",
   "pygments_lexer": "ipython3",
   "version": "3.7.6"
  }
 },
 "nbformat": 4,
 "nbformat_minor": 4
}
